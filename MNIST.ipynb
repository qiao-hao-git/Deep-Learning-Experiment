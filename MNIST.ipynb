{
  "nbformat": 4,
  "nbformat_minor": 0,
  "metadata": {
    "colab": {
      "provenance": [],
      "gpuType": "T4",
      "authorship_tag": "ABX9TyOXkZDkIYrXZ7Aak3uBmk+b",
      "include_colab_link": true
    },
    "kernelspec": {
      "name": "python3",
      "display_name": "Python 3"
    },
    "language_info": {
      "name": "python"
    },
    "accelerator": "GPU"
  },
  "cells": [
    {
      "cell_type": "markdown",
      "metadata": {
        "id": "view-in-github",
        "colab_type": "text"
      },
      "source": [
        "<a href=\"https://colab.research.google.com/github/qiao-hao-git/Deep-Learning-Experiment/blob/main/MNIST.ipynb\" target=\"_parent\"><img src=\"https://colab.research.google.com/assets/colab-badge.svg\" alt=\"Open In Colab\"/></a>"
      ]
    },
    {
      "cell_type": "code",
      "execution_count": 28,
      "metadata": {
        "id": "_cR5b93AW4jC"
      },
      "outputs": [],
      "source": [
        "import torch\n",
        "import torchvision\n",
        "import torchvision.transforms as transforms"
      ]
    },
    {
      "cell_type": "code",
      "source": [
        "transforms = transforms.Compose([\n",
        "    # transforms.Resize((32, 32)),\n",
        "    transforms.ToTensor(),\n",
        "    transforms.Normalize(mean=[0.5], std=[0.5])\n",
        "])\n",
        "\n",
        "train_data = torchvision.datasets.MNIST('./dataset',train=True,download=True,transform=transforms)\n",
        "test_data = torchvision.datasets.MNIST('./dataset',train=False,download=True,transform=transforms)"
      ],
      "metadata": {
        "id": "37ormQ-IYOfl"
      },
      "execution_count": 29,
      "outputs": []
    },
    {
      "cell_type": "code",
      "source": [
        "print(train_data[0][0].size())\n",
        "print(test_data[0][0].size())"
      ],
      "metadata": {
        "colab": {
          "base_uri": "https://localhost:8080/"
        },
        "id": "wxsys9MwaeOa",
        "outputId": "03765d50-85c5-4572-9fb0-df971808860f"
      },
      "execution_count": 30,
      "outputs": [
        {
          "output_type": "stream",
          "name": "stdout",
          "text": [
            "torch.Size([1, 28, 28])\n",
            "torch.Size([1, 28, 28])\n"
          ]
        }
      ]
    },
    {
      "cell_type": "code",
      "source": [
        "train_loader = torch.utils.data.DataLoader(train_data, batch_size=16, shuffle=True)\n",
        "test_loader = torch.utils.data.DataLoader(test_data, batch_size=16, shuffle=False)"
      ],
      "metadata": {
        "id": "qOCjMBQIaogt"
      },
      "execution_count": 31,
      "outputs": []
    },
    {
      "cell_type": "code",
      "source": [
        "import torch.nn as nn\n",
        "import torch.optim as optim\n",
        "import matplotlib.pyplot as plt\n",
        "from tqdm import tqdm"
      ],
      "metadata": {
        "id": "t85t3gKacHb_"
      },
      "execution_count": 32,
      "outputs": []
    },
    {
      "cell_type": "code",
      "source": [
        "from torch.nn.modules.conv import Conv2d\n",
        "from torch.nn.modules.dropout import Dropout\n",
        "class Lenet(nn.Module):\n",
        "  def __init__(self):\n",
        "    super(Lenet,self).__init__()\n",
        "    self.conv1 = nn.Sequential(\n",
        "        nn.Conv2d(1, 32, 3, 1, 1),\n",
        "        nn.ReLU(),\n",
        "        nn.BatchNorm2d(32),\n",
        "\n",
        "        nn.Conv2d(32, 32, 3, 1, 1),\n",
        "        nn.ReLU(),\n",
        "        nn.BatchNorm2d(32),\n",
        "\n",
        "        nn.Dropout(0.4)\n",
        "    )\n",
        "\n",
        "    self.conv2 = nn.Sequential(\n",
        "        nn.Conv2d(32, 64, 3, 1, 1),\n",
        "        nn.ReLU(),\n",
        "        nn.BatchNorm2d(64),\n",
        "\n",
        "        nn.Conv2d(64, 64, 3, 1, 1),\n",
        "        nn.ReLU(),\n",
        "        nn.BatchNorm2d(64),\n",
        "\n",
        "        nn.Conv2d(64, 64, 5, 2, 1),\n",
        "        nn.ReLU(),\n",
        "        nn.BatchNorm2d(64),\n",
        "\n",
        "        nn.Dropout(0.4)\n",
        "    )\n",
        "    self.fc = nn.Sequential(\n",
        "        nn.Flatten(),\n",
        "        nn.Linear(64*13*13, 128),\n",
        "        nn.ReLU(),\n",
        "        nn.BatchNorm1d(128),\n",
        "        nn.Dropout(0.4),\n",
        "        nn.Linear(128, 10)\n",
        "    )\n",
        "  def forward(self, x):\n",
        "    y = self.conv1(x)\n",
        "    y = self.conv2(y)\n",
        "    y = self.fc(y)\n",
        "    return y"
      ],
      "metadata": {
        "id": "8ercgZc0caoL"
      },
      "execution_count": 33,
      "outputs": []
    },
    {
      "cell_type": "code",
      "source": [
        "def test(model, dataloader):\n",
        "  model.eval()\n",
        "  num_correct, num_samples = 0, 0\n",
        "  with torch.no_grad():\n",
        "    for image, label in dataloader:\n",
        "      if torch.cuda.is_available():\n",
        "        image = image.cuda()\n",
        "        label = label.cuda()\n",
        "      pred = model(image)\n",
        "      _, predictions = pred.max(1)\n",
        "      num_correct += (predictions==label).sum()\n",
        "      num_samples += label.size(0)\n",
        "\n",
        "    accuracy = float(num_correct/num_samples)\n",
        "    print('Accuracy = '+ str(accuracy*100) + '%')\n",
        "  return accuracy"
      ],
      "metadata": {
        "id": "EqO623kooNnZ"
      },
      "execution_count": 34,
      "outputs": []
    },
    {
      "cell_type": "code",
      "source": [
        "lr, wd, lr_period, lr_decay, epochs = 1e-4, 1e-4, 10, 0.9, 20\n",
        "model = Lenet()\n",
        "if torch.cuda.is_available():\n",
        "  model = model.cuda()\n",
        "optimizer = optim.Adam(model.parameters(), lr=lr, weight_decay=wd)\n",
        "scheduler = torch.optim.lr_scheduler.StepLR(optimizer, lr_period, lr_decay)\n",
        "loss_fn = nn.CrossEntropyLoss()"
      ],
      "metadata": {
        "id": "4t6wNdhjdk96"
      },
      "execution_count": 35,
      "outputs": []
    },
    {
      "cell_type": "code",
      "source": [
        "train_loss = []\n",
        "test_acc = []\n",
        "\n",
        "for epoch in range(epochs):\n",
        "  running_loss = 0.0\n",
        "  model.train()\n",
        "  for image, label in tqdm(train_loader, total=len(train_loader)):\n",
        "    if torch.cuda.is_available():\n",
        "      image = image.cuda()\n",
        "      label = label.cuda()\n",
        "    output = model(image)\n",
        "    loss = loss_fn(output, label)\n",
        "    running_loss += loss.item()\n",
        "    optimizer.zero_grad()\n",
        "    loss.backward()\n",
        "    optimizer.step()\n",
        "\n",
        "  scheduler.step()\n",
        "  train_acc = test(model, train_loader)\n",
        "  test_accuracy = test(model, test_loader)\n",
        "  if epoch % 5 == 0:\n",
        "    print(f'Epoch [{epoch + 1}/{epochs}] - Loss: {running_loss:.4f} - Train Acc: {train_acc:.4f} - Test Acc: {test_accuracy:.4f}')\n",
        "  train_loss.append(running_loss)\n",
        "  test_acc.append(test_accuracy)"
      ],
      "metadata": {
        "colab": {
          "base_uri": "https://localhost:8080/"
        },
        "id": "Cx8lWn5wf_Vq",
        "outputId": "a7ff53fe-5115-40fd-dc88-144f079f467d"
      },
      "execution_count": 36,
      "outputs": [
        {
          "output_type": "stream",
          "name": "stderr",
          "text": [
            "100%|██████████| 3750/3750 [00:30<00:00, 122.57it/s]\n"
          ]
        },
        {
          "output_type": "stream",
          "name": "stdout",
          "text": [
            "Accuracy = 98.7166702747345%\n",
            "Accuracy = 98.76999855041504%\n",
            "Epoch [1/20] - Loss: 784.8172 - Train Acc: 0.9872 - Test Acc: 0.9877\n"
          ]
        },
        {
          "output_type": "stream",
          "name": "stderr",
          "text": [
            "100%|██████████| 3750/3750 [00:30<00:00, 123.64it/s]\n"
          ]
        },
        {
          "output_type": "stream",
          "name": "stdout",
          "text": [
            "Accuracy = 99.13833737373352%\n",
            "Accuracy = 99.05999898910522%\n"
          ]
        },
        {
          "output_type": "stream",
          "name": "stderr",
          "text": [
            "100%|██████████| 3750/3750 [00:30<00:00, 122.21it/s]\n"
          ]
        },
        {
          "output_type": "stream",
          "name": "stdout",
          "text": [
            "Accuracy = 99.4016706943512%\n",
            "Accuracy = 99.23999905586243%\n"
          ]
        },
        {
          "output_type": "stream",
          "name": "stderr",
          "text": [
            "100%|██████████| 3750/3750 [00:31<00:00, 120.81it/s]\n"
          ]
        },
        {
          "output_type": "stream",
          "name": "stdout",
          "text": [
            "Accuracy = 99.46333169937134%\n",
            "Accuracy = 99.17999505996704%\n"
          ]
        },
        {
          "output_type": "stream",
          "name": "stderr",
          "text": [
            "100%|██████████| 3750/3750 [00:30<00:00, 123.31it/s]\n"
          ]
        },
        {
          "output_type": "stream",
          "name": "stdout",
          "text": [
            "Accuracy = 99.57000017166138%\n",
            "Accuracy = 99.36999678611755%\n"
          ]
        },
        {
          "output_type": "stream",
          "name": "stderr",
          "text": [
            "100%|██████████| 3750/3750 [00:30<00:00, 124.77it/s]\n"
          ]
        },
        {
          "output_type": "stream",
          "name": "stdout",
          "text": [
            "Accuracy = 99.63833689689636%\n",
            "Accuracy = 99.39000010490417%\n",
            "Epoch [6/20] - Loss: 126.2533 - Train Acc: 0.9964 - Test Acc: 0.9939\n"
          ]
        },
        {
          "output_type": "stream",
          "name": "stderr",
          "text": [
            "100%|██████████| 3750/3750 [00:30<00:00, 122.47it/s]\n"
          ]
        },
        {
          "output_type": "stream",
          "name": "stdout",
          "text": [
            "Accuracy = 99.6916651725769%\n",
            "Accuracy = 99.34999942779541%\n"
          ]
        },
        {
          "output_type": "stream",
          "name": "stderr",
          "text": [
            "100%|██████████| 3750/3750 [00:30<00:00, 122.30it/s]\n"
          ]
        },
        {
          "output_type": "stream",
          "name": "stdout",
          "text": [
            "Accuracy = 99.75500106811523%\n",
            "Accuracy = 99.32999610900879%\n"
          ]
        },
        {
          "output_type": "stream",
          "name": "stderr",
          "text": [
            "100%|██████████| 3750/3750 [00:30<00:00, 123.30it/s]\n"
          ]
        },
        {
          "output_type": "stream",
          "name": "stdout",
          "text": [
            "Accuracy = 99.79833364486694%\n",
            "Accuracy = 99.43999648094177%\n"
          ]
        },
        {
          "output_type": "stream",
          "name": "stderr",
          "text": [
            "100%|██████████| 3750/3750 [00:31<00:00, 119.02it/s]\n"
          ]
        },
        {
          "output_type": "stream",
          "name": "stdout",
          "text": [
            "Accuracy = 99.83833432197571%\n",
            "Accuracy = 99.41999912261963%\n"
          ]
        },
        {
          "output_type": "stream",
          "name": "stderr",
          "text": [
            "100%|██████████| 3750/3750 [00:30<00:00, 124.19it/s]\n"
          ]
        },
        {
          "output_type": "stream",
          "name": "stdout",
          "text": [
            "Accuracy = 99.8716652393341%\n",
            "Accuracy = 99.4599997997284%\n",
            "Epoch [11/20] - Loss: 80.9315 - Train Acc: 0.9987 - Test Acc: 0.9946\n"
          ]
        },
        {
          "output_type": "stream",
          "name": "stderr",
          "text": [
            "100%|██████████| 3750/3750 [00:30<00:00, 123.95it/s]\n"
          ]
        },
        {
          "output_type": "stream",
          "name": "stdout",
          "text": [
            "Accuracy = 99.82166886329651%\n",
            "Accuracy = 99.57000017166138%\n"
          ]
        },
        {
          "output_type": "stream",
          "name": "stderr",
          "text": [
            "100%|██████████| 3750/3750 [00:30<00:00, 123.96it/s]\n"
          ]
        },
        {
          "output_type": "stream",
          "name": "stdout",
          "text": [
            "Accuracy = 99.88999962806702%\n",
            "Accuracy = 99.40999746322632%\n"
          ]
        },
        {
          "output_type": "stream",
          "name": "stderr",
          "text": [
            "100%|██████████| 3750/3750 [00:30<00:00, 122.71it/s]\n"
          ]
        },
        {
          "output_type": "stream",
          "name": "stdout",
          "text": [
            "Accuracy = 99.8716652393341%\n",
            "Accuracy = 99.53999519348145%\n"
          ]
        },
        {
          "output_type": "stream",
          "name": "stderr",
          "text": [
            "100%|██████████| 3750/3750 [00:30<00:00, 121.56it/s]\n"
          ]
        },
        {
          "output_type": "stream",
          "name": "stdout",
          "text": [
            "Accuracy = 99.88666772842407%\n",
            "Accuracy = 99.46999549865723%\n"
          ]
        },
        {
          "output_type": "stream",
          "name": "stderr",
          "text": [
            "100%|██████████| 3750/3750 [00:30<00:00, 121.50it/s]\n"
          ]
        },
        {
          "output_type": "stream",
          "name": "stdout",
          "text": [
            "Accuracy = 99.91333484649658%\n",
            "Accuracy = 99.47999715805054%\n",
            "Epoch [16/20] - Loss: 62.1268 - Train Acc: 0.9991 - Test Acc: 0.9948\n"
          ]
        },
        {
          "output_type": "stream",
          "name": "stderr",
          "text": [
            "100%|██████████| 3750/3750 [00:30<00:00, 124.98it/s]\n"
          ]
        },
        {
          "output_type": "stream",
          "name": "stdout",
          "text": [
            "Accuracy = 99.92333650588989%\n",
            "Accuracy = 99.44999814033508%\n"
          ]
        },
        {
          "output_type": "stream",
          "name": "stderr",
          "text": [
            "100%|██████████| 3750/3750 [00:30<00:00, 124.39it/s]\n"
          ]
        },
        {
          "output_type": "stream",
          "name": "stdout",
          "text": [
            "Accuracy = 99.91333484649658%\n",
            "Accuracy = 99.42999482154846%\n"
          ]
        },
        {
          "output_type": "stream",
          "name": "stderr",
          "text": [
            "100%|██████████| 3750/3750 [00:30<00:00, 124.62it/s]\n"
          ]
        },
        {
          "output_type": "stream",
          "name": "stdout",
          "text": [
            "Accuracy = 99.94000196456909%\n",
            "Accuracy = 99.43999648094177%\n"
          ]
        },
        {
          "output_type": "stream",
          "name": "stderr",
          "text": [
            "100%|██████████| 3750/3750 [00:30<00:00, 123.64it/s]\n"
          ]
        },
        {
          "output_type": "stream",
          "name": "stdout",
          "text": [
            "Accuracy = 99.94333386421204%\n",
            "Accuracy = 99.46999549865723%\n"
          ]
        }
      ]
    },
    {
      "cell_type": "code",
      "source": [
        "import numpy as np\n",
        "def plot_curve(y, title, xlabel, ylabel):\n",
        "    x = np.arange(len(y))\n",
        "    fig, ax = plt.subplots()\n",
        "    ax.plot(x, y, label='Loss')\n",
        "    ax.set_title(title)\n",
        "    ax.set_xlabel(xlabel)\n",
        "    ax.set_ylabel(ylabel)\n",
        "    ax.legend()\n",
        "    fig.tight_layout()\n",
        "    plt.show()"
      ],
      "metadata": {
        "id": "lZp4oAzAo2S6"
      },
      "execution_count": 37,
      "outputs": []
    },
    {
      "cell_type": "code",
      "source": [
        "plot_curve(train_loss, 'Train Loss', 'Epoch', 'Loss')\n",
        "plot_curve(test_acc, 'Test Acc', 'Epoch', 'Acc')"
      ],
      "metadata": {
        "colab": {
          "base_uri": "https://localhost:8080/",
          "height": 957
        },
        "id": "5f3KH3GkpMT-",
        "outputId": "349358db-16cb-4f86-894e-16db6e3dd71e"
      },
      "execution_count": 38,
      "outputs": [
        {
          "output_type": "display_data",
          "data": {
            "text/plain": [
              "<Figure size 640x480 with 1 Axes>"
            ],
            "image/png": "[encoded data removed]"
          },
          "metadata": {}
        },
        {
          "output_type": "display_data",
          "data": {
            "text/plain": [
              "<Figure size 640x480 with 1 Axes>"
            ],
            "image/png": "[encoded data removed]"
          },
          "metadata": {}
        }
      ]
    }
  ]
}