{
  "nbformat": 4,
  "nbformat_minor": 0,
  "metadata": {
    "colab": {
      "provenance": [],
      "gpuType": "T4",
      "authorship_tag": "ABX9TyMSjFkI5sV3DVTx6iLwh4/9",
      "include_colab_link": true
    },
    "kernelspec": {
      "name": "python3",
      "display_name": "Python 3"
    },
    "language_info": {
      "name": "python"
    },
    "accelerator": "GPU"
  },
  "cells": [
    {
      "cell_type": "markdown",
      "metadata": {
        "id": "view-in-github",
        "colab_type": "text"
      },
      "source": [
        "<a href=\"https://colab.research.google.com/github/qiao-hao-git/Deep-Learning-Experiment/blob/main/%E6%B7%B1%E5%BA%A6%E5%AD%A6%E4%B9%A0%E5%AE%9E%E9%AA%8C%E4%B8%80.ipynb\" target=\"_parent\"><img src=\"https://colab.research.google.com/assets/colab-badge.svg\" alt=\"Open In Colab\"/></a>"
      ]
    },
    {
      "cell_type": "code",
      "execution_count": null,
      "metadata": {
        "id": "_cR5b93AW4jC"
      },
      "outputs": [],
      "source": [
        "import torch\n",
        "import torchvision\n",
        "import torchvision.transforms as transforms"
      ]
    },
    {
      "cell_type": "code",
      "source": [
        "transforms = transforms.Compose([\n",
        "    transforms.Resize((32, 32)),\n",
        "    transforms.ToTensor(),\n",
        "    transforms.Normalize(mean=[0.5], std=[0.5])\n",
        "])\n",
        "\n",
        "train_data = torchvision.datasets.MNIST('./dataset',train=True,download=True,transform=transforms)\n",
        "test_data = torchvision.datasets.MNIST('./dataset',train=False,download=True,transform=transforms)"
      ],
      "metadata": {
        "colab": {
          "base_uri": "https://localhost:8080/"
        },
        "id": "37ormQ-IYOfl",
        "outputId": "c95e7888-84ed-4bc1-f859-01332d99585b"
      },
      "execution_count": null,
      "outputs": [
        {
          "output_type": "stream",
          "name": "stdout",
          "text": [
            "Downloading http://yann.lecun.com/exdb/mnist/train-images-idx3-ubyte.gz\n",
            "Downloading http://yann.lecun.com/exdb/mnist/train-images-idx3-ubyte.gz to ./dataset/MNIST/raw/train-images-idx3-ubyte.gz\n"
          ]
        },
        {
          "output_type": "stream",
          "name": "stderr",
          "text": [
            "100%|██████████| 9912422/9912422 [00:00<00:00, 139243397.13it/s]"
          ]
        },
        {
          "output_type": "stream",
          "name": "stdout",
          "text": [
            "Extracting ./dataset/MNIST/raw/train-images-idx3-ubyte.gz to ./dataset/MNIST/raw\n"
          ]
        },
        {
          "output_type": "stream",
          "name": "stderr",
          "text": [
            "\n"
          ]
        },
        {
          "output_type": "stream",
          "name": "stdout",
          "text": [
            "\n",
            "Downloading http://yann.lecun.com/exdb/mnist/train-labels-idx1-ubyte.gz\n",
            "Downloading http://yann.lecun.com/exdb/mnist/train-labels-idx1-ubyte.gz to ./dataset/MNIST/raw/train-labels-idx1-ubyte.gz\n"
          ]
        },
        {
          "output_type": "stream",
          "name": "stderr",
          "text": [
            "100%|██████████| 28881/28881 [00:00<00:00, 137967760.62it/s]\n"
          ]
        },
        {
          "output_type": "stream",
          "name": "stdout",
          "text": [
            "Extracting ./dataset/MNIST/raw/train-labels-idx1-ubyte.gz to ./dataset/MNIST/raw\n",
            "\n",
            "Downloading http://yann.lecun.com/exdb/mnist/t10k-images-idx3-ubyte.gz\n",
            "Downloading http://yann.lecun.com/exdb/mnist/t10k-images-idx3-ubyte.gz to ./dataset/MNIST/raw/t10k-images-idx3-ubyte.gz\n"
          ]
        },
        {
          "output_type": "stream",
          "name": "stderr",
          "text": [
            "100%|██████████| 1648877/1648877 [00:00<00:00, 32215184.59it/s]"
          ]
        },
        {
          "output_type": "stream",
          "name": "stdout",
          "text": [
            "Extracting ./dataset/MNIST/raw/t10k-images-idx3-ubyte.gz to ./dataset/MNIST/raw\n"
          ]
        },
        {
          "output_type": "stream",
          "name": "stderr",
          "text": [
            "\n"
          ]
        },
        {
          "output_type": "stream",
          "name": "stdout",
          "text": [
            "\n",
            "Downloading http://yann.lecun.com/exdb/mnist/t10k-labels-idx1-ubyte.gz\n",
            "Downloading http://yann.lecun.com/exdb/mnist/t10k-labels-idx1-ubyte.gz to ./dataset/MNIST/raw/t10k-labels-idx1-ubyte.gz\n"
          ]
        },
        {
          "output_type": "stream",
          "name": "stderr",
          "text": [
            "100%|██████████| 4542/4542 [00:00<00:00, 16310384.22it/s]\n"
          ]
        },
        {
          "output_type": "stream",
          "name": "stdout",
          "text": [
            "Extracting ./dataset/MNIST/raw/t10k-labels-idx1-ubyte.gz to ./dataset/MNIST/raw\n",
            "\n"
          ]
        }
      ]
    },
    {
      "cell_type": "code",
      "source": [
        "print(train_data[0][0].size())\n",
        "print(test_data[0][0].size())"
      ],
      "metadata": {
        "colab": {
          "base_uri": "https://localhost:8080/"
        },
        "id": "wxsys9MwaeOa",
        "outputId": "3be26319-a8ab-4ee0-cbb4-c047b622c4a5"
      },
      "execution_count": null,
      "outputs": [
        {
          "output_type": "stream",
          "name": "stdout",
          "text": [
            "torch.Size([1, 32, 32])\n",
            "torch.Size([1, 32, 32])\n"
          ]
        }
      ]
    },
    {
      "cell_type": "code",
      "source": [
        "train_loader = torch.utils.data.DataLoader(train_data, batch_size=16, shuffle=True)\n",
        "test_loader = torch.utils.data.DataLoader(test_data, batch_size=16, shuffle=False)"
      ],
      "metadata": {
        "id": "qOCjMBQIaogt"
      },
      "execution_count": null,
      "outputs": []
    },
    {
      "cell_type": "code",
      "source": [
        "import torch.nn as nn\n",
        "import torch.optim as optim\n",
        "import matplotlib.pyplot as plt\n",
        "from tqdm import tqdm"
      ],
      "metadata": {
        "id": "t85t3gKacHb_"
      },
      "execution_count": null,
      "outputs": []
    },
    {
      "cell_type": "code",
      "source": [
        "class Lenet(nn.Module):\n",
        "  def __init__(self):\n",
        "    super(Lenet,self).__init__()\n",
        "    self.conv1 = nn.Sequential(\n",
        "        nn.Conv2d(1, 16, 3, 1, 1),\n",
        "        nn.ReLU(),\n",
        "        nn.MaxPool2d(2, 2)\n",
        "    )\n",
        "    self.conv2 = nn.Sequential(\n",
        "        nn.Conv2d(16, 32, 3, 1, 1),\n",
        "        nn.ReLU(),\n",
        "        nn.MaxPool2d(2, 2)\n",
        "    )\n",
        "    self.fc = nn.Sequential(\n",
        "        nn.Linear(32*8*8, 256),\n",
        "        nn.ReLU(),\n",
        "        nn.Linear(256, 64),\n",
        "        nn.ReLU(),\n",
        "        nn.Linear(64, 10),\n",
        "    )\n",
        "  def forward(self, x):\n",
        "    y = self.conv1(x)\n",
        "    y = self.conv2(y)\n",
        "    y = y.view(-1, 32*8*8)\n",
        "    y = self.fc(y)\n",
        "    return y"
      ],
      "metadata": {
        "id": "8ercgZc0caoL"
      },
      "execution_count": null,
      "outputs": []
    },
    {
      "cell_type": "code",
      "source": [
        "lr, wd, lr_period, lr_decay, epochs = 1e-4, 1e-4, 10, 0.9, 20\n",
        "model = Lenet()\n",
        "if torch.cuda.is_available():\n",
        "  model = model.cuda()\n",
        "optimizer = optim.Adam(model.parameters(), lr=lr, weight_decay=wd)\n",
        "scheduler = torch.optim.lr_scheduler.StepLR(optimizer, lr_period, lr_decay)\n",
        "loss_fn = nn.CrossEntropyLoss()"
      ],
      "metadata": {
        "id": "4t6wNdhjdk96"
      },
      "execution_count": null,
      "outputs": []
    },
    {
      "cell_type": "code",
      "source": [
        "train_loss = []\n",
        "for epoch in range(epochs):\n",
        "  running_loss = 0.0\n",
        "\n",
        "  for image, label in tqdm(train_loader, total=len(train_loader)):\n",
        "    if torch.cuda.is_available():\n",
        "      image = image.cuda()\n",
        "      label = label.cuda()\n",
        "    output = model(image)\n",
        "    loss = loss_fn(output, label)\n",
        "    running_loss += loss.item()\n",
        "    optimizer.zero_grad()\n",
        "    loss.backward()\n",
        "    optimizer.step()\n",
        "\n",
        "  scheduler.step()\n",
        "  if epoch % 5 == 0:\n",
        "    print(f'Epoch [{epoch + 1}/{epochs}] - Loss: {running_loss:.4f}')\n",
        "  train_loss.append(running_loss)"
      ],
      "metadata": {
        "colab": {
          "base_uri": "https://localhost:8080/"
        },
        "id": "Cx8lWn5wf_Vq",
        "outputId": "88662d9d-0c0f-4a4f-de3f-03faf555b6cd"
      },
      "execution_count": null,
      "outputs": [
        {
          "output_type": "stream",
          "name": "stderr",
          "text": [
            "100%|██████████| 3750/3750 [00:32<00:00, 114.68it/s]\n"
          ]
        },
        {
          "output_type": "stream",
          "name": "stdout",
          "text": [
            "Epoch [1/20] - Loss: 1319.6242\n"
          ]
        },
        {
          "output_type": "stream",
          "name": "stderr",
          "text": [
            "100%|██████████| 3750/3750 [00:25<00:00, 148.57it/s]\n",
            "100%|██████████| 3750/3750 [00:30<00:00, 124.29it/s]\n",
            "100%|██████████| 3750/3750 [00:29<00:00, 126.62it/s]\n",
            "100%|██████████| 3750/3750 [00:28<00:00, 133.49it/s]\n",
            "100%|██████████| 3750/3750 [00:29<00:00, 127.44it/s]\n"
          ]
        },
        {
          "output_type": "stream",
          "name": "stdout",
          "text": [
            "Epoch [6/20] - Loss: 135.3033\n"
          ]
        },
        {
          "output_type": "stream",
          "name": "stderr",
          "text": [
            "100%|██████████| 3750/3750 [00:27<00:00, 134.65it/s]\n",
            "100%|██████████| 3750/3750 [00:29<00:00, 126.28it/s]\n",
            "100%|██████████| 3750/3750 [00:26<00:00, 140.86it/s]\n",
            "100%|██████████| 3750/3750 [00:26<00:00, 142.09it/s]\n",
            "100%|██████████| 3750/3750 [00:26<00:00, 141.83it/s]\n"
          ]
        },
        {
          "output_type": "stream",
          "name": "stdout",
          "text": [
            "Epoch [11/20] - Loss: 64.0810\n"
          ]
        },
        {
          "output_type": "stream",
          "name": "stderr",
          "text": [
            "100%|██████████| 3750/3750 [00:26<00:00, 139.85it/s]\n",
            "100%|██████████| 3750/3750 [00:25<00:00, 146.49it/s]\n",
            "100%|██████████| 3750/3750 [00:25<00:00, 146.93it/s]\n",
            "100%|██████████| 3750/3750 [00:25<00:00, 146.69it/s]\n",
            "100%|██████████| 3750/3750 [00:25<00:00, 149.20it/s]\n"
          ]
        },
        {
          "output_type": "stream",
          "name": "stdout",
          "text": [
            "Epoch [16/20] - Loss: 35.9244\n"
          ]
        },
        {
          "output_type": "stream",
          "name": "stderr",
          "text": [
            "100%|██████████| 3750/3750 [00:24<00:00, 150.12it/s]\n",
            "100%|██████████| 3750/3750 [00:24<00:00, 151.99it/s]\n",
            "100%|██████████| 3750/3750 [00:24<00:00, 151.22it/s]\n",
            "100%|██████████| 3750/3750 [00:25<00:00, 148.65it/s]\n"
          ]
        }
      ]
    },
    {
      "cell_type": "code",
      "source": [
        "import numpy as np\n",
        "def plot_curve(y, title, xlabel, ylabel):\n",
        "    x = np.arange(len(y))\n",
        "    fig, ax = plt.subplots()\n",
        "    ax.plot(x, y, label='Loss')\n",
        "    ax.set_title(title)\n",
        "    ax.set_xlabel(xlabel)\n",
        "    ax.set_ylabel(ylabel)\n",
        "    ax.legend()\n",
        "    fig.tight_layout()\n",
        "    plt.show()"
      ],
      "metadata": {
        "id": "lZp4oAzAo2S6"
      },
      "execution_count": null,
      "outputs": []
    },
    {
      "cell_type": "code",
      "source": [
        "plot_curve(train_loss, 'Train Loss', 'Epoch', 'Loss')"
      ],
      "metadata": {
        "colab": {
          "base_uri": "https://localhost:8080/",
          "height": 487
        },
        "id": "5f3KH3GkpMT-",
        "outputId": "48cca0b9-abea-4a9a-c81b-42be5587e9c8"
      },
      "execution_count": null,
      "outputs": [
        {
          "output_type": "display_data",
          "data": {
            "text/plain": [
              "<Figure size 640x480 with 1 Axes>"
            ],
            "image/png": "[encoded data removed]"
          },
          "metadata": {}
        }
      ]
    },
    {
      "cell_type": "code",
      "source": [
        "model.eval()\n",
        "num_correct, num_samples = 0, 0\n",
        "with torch.no_grad():\n",
        "  for image, label in train_loader:\n",
        "    if torch.cuda.is_available():\n",
        "      image = image.cuda()\n",
        "      label = label.cuda()\n",
        "    pred = model(image)\n",
        "    _, predictions = pred.max(1)\n",
        "    num_correct += (predictions==label).sum()\n",
        "    num_samples += label.size(0)\n",
        "\n",
        "  accuracy = float(num_correct/num_samples)\n",
        "  print('Accuracy = '+ str(accuracy*100) + '%')"
      ],
      "metadata": {
        "colab": {
          "base_uri": "https://localhost:8080/"
        },
        "id": "EqO623kooNnZ",
        "outputId": "7c9aeda1-75cd-4af7-ae08-264f7c55c5df"
      },
      "execution_count": null,
      "outputs": [
        {
          "output_type": "stream",
          "name": "stdout",
          "text": [
            "Accuracy = 99.91999864578247%\n"
          ]
        }
      ]
    },
    {
      "cell_type": "code",
      "source": [
        "model.eval()\n",
        "num_correct, num_samples = 0, 0\n",
        "test_loss = []\n",
        "with torch.no_grad():\n",
        "  for image, label in test_loader:\n",
        "    if torch.cuda.is_available():\n",
        "      image = image.cuda()\n",
        "      label = label.cuda()\n",
        "    pred = model(image)\n",
        "    _, predictions = pred.max(1)\n",
        "    loss = loss_fn(pred, label)\n",
        "    test_loss.append(loss.item())\n",
        "    num_correct += (predictions==label).sum()\n",
        "    num_samples += label.size(0)\n",
        "\n",
        "  accuracy = float(num_correct/num_samples)\n",
        "  print('Accuracy = '+ str(accuracy*100) + '%')"
      ],
      "metadata": {
        "colab": {
          "base_uri": "https://localhost:8080/"
        },
        "id": "JGSWkh9PjR4b",
        "outputId": "d036f8a6-6eeb-4bbc-d59a-3ebcae484ab9"
      },
      "execution_count": null,
      "outputs": [
        {
          "output_type": "stream",
          "name": "stdout",
          "text": [
            "Accuracy = 99.19999837875366%\n"
          ]
        }
      ]
    },
    {
      "cell_type": "code",
      "source": [
        "plot_curve(test_loss, 'Test Loss', 'Epoch', 'Loss')"
      ],
      "metadata": {
        "colab": {
          "base_uri": "https://localhost:8080/",
          "height": 487
        },
        "id": "g6AyFrA0q53B",
        "outputId": "83872c8a-b843-46a1-eebb-bf83a1e65f72"
      },
      "execution_count": null,
      "outputs": [
        {
          "output_type": "display_data",
          "data": {
            "text/plain": [
              "<Figure size 640x480 with 1 Axes>"
            ],
            "image/png": "[encoded data removed]"
          },
          "metadata": {}
        }
      ]
    }
  ]
}